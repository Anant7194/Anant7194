{
  "nbformat": 4,
  "nbformat_minor": 0,
  "metadata": {
    "colab": {
      "name": "Series.ipynb",
      "provenance": [],
      "collapsed_sections": [],
      "authorship_tag": "ABX9TyP4I6Az97aO+0lcXGVjdpbf",
      "include_colab_link": true
    },
    "kernelspec": {
      "name": "python3",
      "display_name": "Python 3"
    },
    "language_info": {
      "name": "python"
    }
  },
  "cells": [
    {
      "cell_type": "markdown",
      "metadata": {
        "id": "view-in-github",
        "colab_type": "text"
      },
      "source": [
        "<a href=\"https://colab.research.google.com/github/Anant7194/Anant7194/blob/main/Series.ipynb\" target=\"_parent\"><img src=\"https://colab.research.google.com/assets/colab-badge.svg\" alt=\"Open In Colab\"/></a>"
      ]
    },
    {
      "cell_type": "code",
      "metadata": {
        "id": "SuI9NWArWUzN"
      },
      "source": [
        "import pandas as pd\n",
        "sports={'Home':'London',\n",
        "        'City':'Paris',\n",
        "        'Town':'NewYork'}\n",
        "s=pd.Series(sports,index=['City','Town','District'])\n",
        "s"
      ],
      "execution_count": null,
      "outputs": []
    },
    {
      "cell_type": "code",
      "metadata": {
        "id": "pbreOL-lWW2O"
      },
      "source": [
        "s=pd.Series([1,2,3])\n",
        "s.loc['Animal']='Deer'\n",
        "s[3]='4'\n",
        "s"
      ],
      "execution_count": null,
      "outputs": []
    },
    {
      "cell_type": "code",
      "metadata": {
        "id": "yhFxACDXcHQa"
      },
      "source": [
        "import numpy as np\n",
        "s=pd.Series(np.random.randint(0,1000,10000))\n",
        "print(s.head())\n",
        "s.tail(6)"
      ],
      "execution_count": null,
      "outputs": []
    },
    {
      "cell_type": "code",
      "metadata": {
        "id": "8WnXBsF4cfBr"
      },
      "source": [
        "import numpy as np\n",
        "import pandas as pd\n",
        "\n",
        "mylist = list('abcdefg')\n",
        "myarray=np.arange(26)\n",
        "mydict=dict(zip(mylist,myarray))\n",
        "\n",
        "ser1=pd.Series(mylist)\n",
        "ser2=pd.Series(myarray)\n",
        "ser3=pd.Series(mydict)\n",
        "ser3.head()"
      ],
      "execution_count": null,
      "outputs": []
    },
    {
      "cell_type": "code",
      "metadata": {
        "id": "G19ORX6UfaBC"
      },
      "source": [
        "ser1=pd.Series([1,2,3,4])\n",
        "ser2=pd.Series([2,3,4,5])\n",
        "ser1[~ser1.isin(ser2)]"
      ],
      "execution_count": null,
      "outputs": []
    },
    {
      "cell_type": "code",
      "metadata": {
        "id": "6ijVwwNMf0k3"
      },
      "source": [
        "ser1=pd.Series([1,2,3,4])\n",
        "ser2=pd.Series([2,3,4,5])\n",
        "ser1[ser1.isin(ser2)]"
      ],
      "execution_count": null,
      "outputs": []
    },
    {
      "cell_type": "code",
      "metadata": {
        "id": "WxyzlGzrf5g_"
      },
      "source": [
        "ser1=pd.Series([1,2,3,4])\n",
        "ser2=pd.Series([2,3,4,5])\n",
        "s1=pd.Series(np.union1d(ser1,ser2))\n",
        "s2=pd.Series(np.intersect1d(ser1,ser2))\n",
        "s1[~s1.isin(s2)]"
      ],
      "execution_count": null,
      "outputs": []
    },
    {
      "cell_type": "code",
      "metadata": {
        "id": "aGqoaLGJjUU4"
      },
      "source": [
        "ser1=pd.Series([10,9,6,5,3,1,12,8,13])\n",
        "ser2=pd.Series([1,3,10,13])\n",
        "#[np.where(i==ser1)[0].tolist()[0] for i in ser2] #Solution1\n",
        "[pd.Index(ser1).get_loc(i) for i in ser2] "
      ],
      "execution_count": null,
      "outputs": []
    },
    {
      "cell_type": "code",
      "metadata": {
        "id": "RVYc3ByRevp2"
      },
      "source": [
        "\n",
        "ser=pd.Series(list('abcdefghijklmnopqrstuvwxyz'))\n",
        "pos=[0,4,8,14,20]\n",
        "ser.take(pos)"
      ],
      "execution_count": null,
      "outputs": []
    },
    {
      "cell_type": "code",
      "metadata": {
        "id": "nPiOkyIDhSXf"
      },
      "source": [
        "purchase1=pd.Series({'Name':'Chris',\n",
        "                     'Item Purchased': 'Dog Food',\n",
        "                     'Cost': 22.50})\n",
        "purchase2=pd.Series({'Name':'Kevyn',\n",
        "                     'Item Purchased': 'Kitty Litter',\n",
        "                     'Cost': 2.50})\n",
        "purchase3=pd.Series({'Name':'Vinod',\n",
        "                     'Item Purchased': 'Bird Season',\n",
        "                     'Cost': 5.00})\n",
        "df= pd.DataFrame([purchase1,purchase2,purchase3],index=['S1','S2','S3'])\n",
        "df"
      ],
      "execution_count": null,
      "outputs": []
    },
    {
      "cell_type": "code",
      "metadata": {
        "id": "Z2FySLF_ip0o"
      },
      "source": [
        "df2=df.to_csv('store.csv')"
      ],
      "execution_count": null,
      "outputs": []
    },
    {
      "cell_type": "code",
      "metadata": {
        "id": "jKZ1-DCOizh0"
      },
      "source": [
        "a=df.index\n",
        "a"
      ],
      "execution_count": null,
      "outputs": []
    },
    {
      "cell_type": "code",
      "metadata": {
        "id": "CW4XItuijn9U"
      },
      "source": [
        "df3=df.loc[\"S1\"]\n",
        "df3"
      ],
      "execution_count": null,
      "outputs": []
    },
    {
      "cell_type": "code",
      "metadata": {
        "id": "fdeavhqdkPrt"
      },
      "source": [
        "df.loc[\"S1\",\"Cost\"]"
      ],
      "execution_count": null,
      "outputs": []
    },
    {
      "cell_type": "code",
      "metadata": {
        "id": "IyZzQCyjk_FQ"
      },
      "source": [
        " "
      ],
      "execution_count": null,
      "outputs": []
    },
    {
      "cell_type": "code",
      "metadata": {
        "id": "qBquzqATj2NR"
      },
      "source": [
        "df4=df3.to_csv(\"store1.csv\")"
      ],
      "execution_count": null,
      "outputs": []
    },
    {
      "cell_type": "code",
      "metadata": {
        "id": "yvxmcsdkjvTo"
      },
      "source": [
        "df.loc[\"S2\"]"
      ],
      "execution_count": null,
      "outputs": []
    },
    {
      "cell_type": "code",
      "metadata": {
        "id": "__rIHhEmka0V"
      },
      "source": [
        "df.T"
      ],
      "execution_count": null,
      "outputs": []
    },
    {
      "cell_type": "code",
      "metadata": {
        "id": "oBPK7Idrlf75"
      },
      "source": [
        "df.loc[:,[\"Name\",\"Cost\"]]"
      ],
      "execution_count": null,
      "outputs": []
    },
    {
      "cell_type": "code",
      "metadata": {
        "id": "b08cD54flmeG"
      },
      "source": [
        "df.loc[\"S1\",[\"Name\",\"Cost\"]]"
      ],
      "execution_count": null,
      "outputs": []
    },
    {
      "cell_type": "code",
      "metadata": {
        "id": "n-kySnSTl5n7"
      },
      "source": [
        "#del df[\"Cost\"]\n",
        "df.drop(\"S1\")"
      ],
      "execution_count": null,
      "outputs": []
    },
    {
      "cell_type": "code",
      "metadata": {
        "id": "1VK_PCe7mi8d"
      },
      "source": [
        "df3"
      ],
      "execution_count": null,
      "outputs": []
    },
    {
      "cell_type": "code",
      "metadata": {
        "id": "ou4sMmKcmXpy"
      },
      "source": [
        "df3=df\n",
        "del df3[\"Name\"]\n",
        "df3"
      ],
      "execution_count": null,
      "outputs": []
    },
    {
      "cell_type": "code",
      "metadata": {
        "id": "DV_g5grRmx04"
      },
      "source": [
        "df['location']=None\n",
        "df"
      ],
      "execution_count": null,
      "outputs": []
    },
    {
      "cell_type": "code",
      "metadata": {
        "id": "vNahSmzfnQIr"
      },
      "source": [
        "df.loc[\"S2\"]"
      ],
      "execution_count": null,
      "outputs": []
    }
  ]
}