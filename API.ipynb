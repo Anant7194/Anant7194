{
  "nbformat": 4,
  "nbformat_minor": 0,
  "metadata": {
    "colab": {
      "name": "API",
      "provenance": [],
      "collapsed_sections": [],
      "authorship_tag": "ABX9TyPEZbYR39SVY0eKwhYcpnTK",
      "include_colab_link": true
    },
    "kernelspec": {
      "name": "python3",
      "display_name": "Python 3"
    }
  },
  "cells": [
    {
      "cell_type": "markdown",
      "metadata": {
        "id": "view-in-github",
        "colab_type": "text"
      },
      "source": [
        "<a href=\"https://colab.research.google.com/github/Anant7194/Machine-Learning/blob/main/API.ipynb\" target=\"_parent\"><img src=\"https://colab.research.google.com/assets/colab-badge.svg\" alt=\"Open In Colab\"/></a>"
      ]
    },
    {
      "cell_type": "code",
      "metadata": {
        "colab": {
          "base_uri": "https://localhost:8080/"
        },
        "id": "fWGopiL3GHzP",
        "outputId": "d0769a1e-7e8e-4976-8325-a0047876edaf"
      },
      "source": [
        "import requests\n",
        "\n",
        "url = \"https://stock-price4.p.rapidapi.com/price/AMZN\"\n",
        "\n",
        "headers = {\n",
        "    'x-rapidapi-key': \"6aab1fa7f4msh2a232ef3f77bc6bp175169jsnfe530da82515\",\n",
        "    'x-rapidapi-host': \"stock-price4.p.rapidapi.com\"\n",
        "    }\n",
        "\n",
        "response = requests.request(\"GET\", url, headers=headers)\n",
        "\n",
        "print(response.text)"
      ],
      "execution_count": null,
      "outputs": [
        {
          "output_type": "stream",
          "text": [
            "{\"regularMarketPreviousClose\":3599.92,\"preMarketPrice\":0,\"marketState\":\"POSTPOST\",\"exchangeDataDelayedBy\":0,\"Change\":-272.32983,\"regularMarketPrice\":3327.59,\"preMarketChangePercent\":0,\"postMarketChangePercent\":0.162577,\"Price\":3327.59,\"symbol\":\"AMZN\",\"regularMarketChange\":-272.32983,\"IsActive\":false,\"regularMarketChangePercent\":-7.564886,\"regularMarketOpen\":3347.95,\"shortName\":\"Amazon.com, Inc.\",\"preMarketChange\":0,\"regularMarketDayRange\":\"3306.98 - 3368.0\",\"IsRegularTradingSession\":false,\"postMarketPrice\":3333,\"ChangePercent\":-7.564886,\"currency\":\"USD\",\"postMarketChange\":5.40991,\"fullExchangeName\":\"NasdaqGS\"}\n"
          ],
          "name": "stdout"
        }
      ]
    }
  ]
}