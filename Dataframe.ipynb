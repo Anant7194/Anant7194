{
  "nbformat": 4,
  "nbformat_minor": 0,
  "metadata": {
    "colab": {
      "name": "Dataframe.ipynb",
      "provenance": [],
      "collapsed_sections": [],
      "authorship_tag": "ABX9TyOrKlkHV9MzbbH0r27enMgf",
      "include_colab_link": true
    },
    "kernelspec": {
      "name": "python3",
      "display_name": "Python 3"
    },
    "language_info": {
      "name": "python"
    }
  },
  "cells": [
    {
      "cell_type": "markdown",
      "metadata": {
        "id": "view-in-github",
        "colab_type": "text"
      },
      "source": [
        "<a href=\"https://colab.research.google.com/github/Anant7194/Anant7194/blob/main/Dataframe.ipynb\" target=\"_parent\"><img src=\"https://colab.research.google.com/assets/colab-badge.svg\" alt=\"Open In Colab\"/></a>"
      ]
    },
    {
      "cell_type": "code",
      "metadata": {
        "colab": {
          "base_uri": "https://localhost:8080/"
        },
        "id": "R2pLaICyjax_",
        "outputId": "e3e6a285-32ea-4e55-b10c-52bea41a705e"
      },
      "source": [
        "import pandas as pd\n",
        "data=[['T0001','Anuj Mishra',5,1355],['T0002','Sandeep Oza',2,1169],['T0003','Manavi Sharma',6,1988]]\n",
        "booking=pd.DataFrame(data,columns=['Tcode','Name','Tickets','Amount'])\n",
        "print(booking.to_string(index=False))"
      ],
      "execution_count": null,
      "outputs": [
        {
          "output_type": "stream",
          "text": [
            " Tcode           Name  Tickets  Amount\n",
            " T0001    Anuj Mishra        5    1355\n",
            " T0002    Sandeep Oza        2    1169\n",
            " T0003  Manavi Sharma        6    1988\n"
          ],
          "name": "stdout"
        }
      ]
    },
    {
      "cell_type": "code",
      "metadata": {
        "id": "idsXz0-9oGB-"
      },
      "source": [
        "data=[['Sofa','Wooden','Maroon',25000],\n",
        "      ['DT','PlyWood','Yellow',20000],\n",
        "      ['Chair','Plastic','Red',1500],\n",
        "      ['Sofa','Stainess Steel','Silver',55000],\n",
        "      ['Chair','Wooden','Light Blue',2500],\n",
        "      ['DT','Aluminium','Golden',65000]]\n",
        "furniture=pd.DataFrame(data,columns=['Item','Material','Colour','Price'])\n",
        "print(furniture.to_string(index=False))"
      ],
      "execution_count": null,
      "outputs": []
    },
    {
      "cell_type": "code",
      "metadata": {
        "id": "mSDwGLmNpijC"
      },
      "source": [
        "print(furniture[furniture['Item']=='Sofa'],'n',\n",
        "      furniture[furniture['Item']=='Chair'])"
      ],
      "execution_count": null,
      "outputs": []
    },
    {
      "cell_type": "code",
      "metadata": {
        "colab": {
          "base_uri": "https://localhost:8080/"
        },
        "id": "3c2Mu_97rbKa",
        "outputId": "20f4d067-3ef3-4292-f825-727297e86177"
      },
      "source": [
        "print (furniture[furniture['Price']>25000])"
      ],
      "execution_count": null,
      "outputs": [
        {
          "output_type": "stream",
          "text": [
            "   Item        Material  Colour  Price\n",
            "3  Sofa  Stainess Steel  Silver  55000\n",
            "5    DT       Aluminium  Golden  65000\n"
          ],
          "name": "stdout"
        }
      ]
    },
    {
      "cell_type": "code",
      "metadata": {
        "colab": {
          "base_uri": "https://localhost:8080/"
        },
        "id": "wfKclX8-rkX9",
        "outputId": "84ef8abc-c6a4-473d-fbdc-2cce53c4041c"
      },
      "source": [
        "print (furniture[furniture['Price']<10000])"
      ],
      "execution_count": null,
      "outputs": [
        {
          "output_type": "stream",
          "text": [
            "    Item Material      Colour  Price\n",
            "2  Chair  Plastic         Red   1500\n",
            "4  Chair   Wooden  Light Blue   2500\n"
          ],
          "name": "stdout"
        }
      ]
    },
    {
      "cell_type": "code",
      "metadata": {
        "colab": {
          "base_uri": "https://localhost:8080/"
        },
        "id": "4ysdh5AftkI5",
        "outputId": "9c205e65-e16a-4f96-f0ca-8ec02ab84bbe"
      },
      "source": [
        "print (furniture.iloc[::2])"
      ],
      "execution_count": null,
      "outputs": [
        {
          "output_type": "stream",
          "text": [
            "    Item Material      Colour  Price\n",
            "0   Sofa   Wooden      Maroon  25000\n",
            "2  Chair  Plastic         Red   1500\n",
            "4  Chair   Wooden  Light Blue   2500\n"
          ],
          "name": "stdout"
        }
      ]
    },
    {
      "cell_type": "code",
      "metadata": {
        "colab": {
          "base_uri": "https://localhost:8080/"
        },
        "id": "98SNGRJtujWP",
        "outputId": "dd4aea15-0b4a-4def-f0dc-428354e2ea27"
      },
      "source": [
        "data={'House':['Blue House','Red House','Green House','Yellow House'],\n",
        "      'Activity1':[98,87,59,78],\n",
        "       'Activity2':[85,76,67,99],\n",
        "       'Activity3':[88,80,91,55]}\n",
        "furniture=pd.DataFrame(data)\n",
        "print(furniture.to_string(index=False))"
      ],
      "execution_count": null,
      "outputs": [
        {
          "output_type": "stream",
          "text": [
            "        House  Activity1  Activity2  Activity3\n",
            "   Blue House         98         85         88\n",
            "    Red House         87         76         80\n",
            "  Green House         59         67         91\n",
            " Yellow House         78         99         55\n"
          ],
          "name": "stdout"
        }
      ]
    },
    {
      "cell_type": "code",
      "metadata": {
        "colab": {
          "base_uri": "https://localhost:8080/"
        },
        "id": "rVSB0l9gv0kT",
        "outputId": "02b49ac4-e37f-47f7-c51c-7e33ce75ebf1"
      },
      "source": [
        "r={'Term1':200,'Term2':189}\n",
        "g={'Term1':350,'Term2':250}\n",
        "b={'Term1':400,'Term2':400}\n",
        "y={'Term1':380,'Term2':300}\n",
        "c={'Red':r,'Green':g,'Blue':b,'Yellow':y}\n",
        "df=pd.DataFrame(c)\n",
        "print(df)"
      ],
      "execution_count": null,
      "outputs": [
        {
          "output_type": "stream",
          "text": [
            "       Red  Green  Blue  Yellow\n",
            "Term1  200    350   400     380\n",
            "Term2  189    250   400     300\n"
          ],
          "name": "stdout"
        }
      ]
    },
    {
      "cell_type": "code",
      "metadata": {
        "colab": {
          "base_uri": "https://localhost:8080/",
          "height": 203
        },
        "id": "Srq4OdksxO7X",
        "outputId": "9573834b-f995-400c-ffdb-be7649141c74"
      },
      "source": [
        "import pandas as pd\n",
        "b=pd.read_csv(\"/home/brics.csv\")\n",
        "b"
      ],
      "execution_count": null,
      "outputs": [
        {
          "output_type": "execute_result",
          "data": {
            "text/html": [
              "<div>\n",
              "<style scoped>\n",
              "    .dataframe tbody tr th:only-of-type {\n",
              "        vertical-align: middle;\n",
              "    }\n",
              "\n",
              "    .dataframe tbody tr th {\n",
              "        vertical-align: top;\n",
              "    }\n",
              "\n",
              "    .dataframe thead th {\n",
              "        text-align: right;\n",
              "    }\n",
              "</style>\n",
              "<table border=\"1\" class=\"dataframe\">\n",
              "  <thead>\n",
              "    <tr style=\"text-align: right;\">\n",
              "      <th></th>\n",
              "      <th>Unnamed: 0</th>\n",
              "      <th>country</th>\n",
              "      <th>population</th>\n",
              "      <th>area</th>\n",
              "      <th>capital</th>\n",
              "    </tr>\n",
              "  </thead>\n",
              "  <tbody>\n",
              "    <tr>\n",
              "      <th>0</th>\n",
              "      <td>BR</td>\n",
              "      <td>Brazil</td>\n",
              "      <td>200</td>\n",
              "      <td>8515767</td>\n",
              "      <td>Brasilia</td>\n",
              "    </tr>\n",
              "    <tr>\n",
              "      <th>1</th>\n",
              "      <td>RU</td>\n",
              "      <td>Russia</td>\n",
              "      <td>144</td>\n",
              "      <td>17098242</td>\n",
              "      <td>Moscow</td>\n",
              "    </tr>\n",
              "    <tr>\n",
              "      <th>2</th>\n",
              "      <td>IN</td>\n",
              "      <td>India</td>\n",
              "      <td>1252</td>\n",
              "      <td>3287590</td>\n",
              "      <td>New Delhi</td>\n",
              "    </tr>\n",
              "    <tr>\n",
              "      <th>3</th>\n",
              "      <td>CH</td>\n",
              "      <td>China</td>\n",
              "      <td>1357</td>\n",
              "      <td>9596961</td>\n",
              "      <td>Beijing</td>\n",
              "    </tr>\n",
              "    <tr>\n",
              "      <th>4</th>\n",
              "      <td>SA</td>\n",
              "      <td>South Africa</td>\n",
              "      <td>55</td>\n",
              "      <td>1221037</td>\n",
              "      <td>Pretoria</td>\n",
              "    </tr>\n",
              "  </tbody>\n",
              "</table>\n",
              "</div>"
            ],
            "text/plain": [
              "  Unnamed: 0       country  population      area    capital\n",
              "0         BR        Brazil         200   8515767   Brasilia\n",
              "1         RU        Russia         144  17098242     Moscow\n",
              "2         IN         India        1252   3287590  New Delhi\n",
              "3         CH         China        1357   9596961    Beijing\n",
              "4         SA  South Africa          55   1221037   Pretoria"
            ]
          },
          "metadata": {
            "tags": []
          },
          "execution_count": 19
        }
      ]
    },
    {
      "cell_type": "code",
      "metadata": {
        "id": "Iu7tw3Ng_ZWP"
      },
      "source": [
        "import pandas as pd\n",
        "b=pd.read_csv(\"/home/olympics.csv\")\n",
        "b\n"
      ],
      "execution_count": null,
      "outputs": []
    },
    {
      "cell_type": "code",
      "metadata": {
        "id": "NrKClmeiz_lR"
      },
      "source": [
        "b=pd.read_csv(\"/home/brics.csv\",index_col=0)\n",
        "b"
      ],
      "execution_count": null,
      "outputs": []
    },
    {
      "cell_type": "code",
      "metadata": {
        "id": "MWvDdFlF0MOI"
      },
      "source": [
        "b.describe()"
      ],
      "execution_count": null,
      "outputs": []
    },
    {
      "cell_type": "code",
      "metadata": {
        "colab": {
          "base_uri": "https://localhost:8080/",
          "height": 35
        },
        "id": "lvytC1Jr5pFW",
        "outputId": "3b44b811-13c0-4097-ed03-e678cd2c9d01"
      },
      "source": [
        "b.loc[\"CH\"][\"capital\"]"
      ],
      "execution_count": null,
      "outputs": [
        {
          "output_type": "execute_result",
          "data": {
            "application/vnd.google.colaboratory.intrinsic+json": {
              "type": "string"
            },
            "text/plain": [
              "'Beijing'"
            ]
          },
          "metadata": {
            "tags": []
          },
          "execution_count": 24
        }
      ]
    }
  ]
}